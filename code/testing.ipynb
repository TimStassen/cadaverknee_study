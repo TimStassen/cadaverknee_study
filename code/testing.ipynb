{
 "cells": [
  {
   "cell_type": "code",
   "execution_count": 13,
   "metadata": {},
   "outputs": [],
   "source": [
    "from utils import AnalyzeVolume\n",
    "import os\n",
    "import pdb\n",
    "import SimpleITK as sitk\n",
    "\n",
    "root_folder_pcct = r'E:\\closed_elastix_cartilages2'\n",
    "root_folder_pcct_images = os.listdir(root_folder_pcct)\n",
    "\n",
    "# for image in root_folder_pcct_images:\n",
    "#     if os.path.splitext(image)[1] == '.nii':\n",
    "#         knee = image.split('_')[0] + '_' + image.split('_')[1]\n",
    "gt = os.path.join(r'E:\\segmentations MR Tim\\07_2017\\07_2017_tibial_cartilage.nrrd')\n",
    "pred = os.path.join(root_folder_pcct,'07_2017_tibial_cartilage.nii' )\n",
    "        \n",
    "gt_itk = sitk.ReadImage(gt)\n",
    "        \n",
    "pred_itk = sitk.ReadImage(pred)\n",
    "\n",
    "\n",
    "resample = sitk.ResampleImageFilter()\n",
    "resample.SetOutputSpacing(gt_itk.GetSpacing())\n",
    "resample.SetSize(gt_itk.GetSize())\n",
    "resample.SetOutputDirection(gt_itk.GetDirection())\n",
    "resample.SetOutputOrigin(gt_itk.GetOrigin())\n",
    "resample.SetTransform(sitk.Transform())\n",
    "resample.SetDefaultPixelValue(gt_itk.GetPixelIDValue())\n",
    "resample.SetInterpolator(sitk.sitkNearestNeighbor)\n",
    "new_pred_itk = resample.Execute(pred_itk)\n",
    "\n",
    "gt_array = sitk.GetArrayViewFromImage(gt_itk)\n",
    "pred_array = sitk.GetArrayViewFromImage(new_pred_itk)\n",
    "\n",
    "\n",
    "\n",
    "\n",
    "\n",
    "        # pdb.set_trace()\n",
    "        # analysis = AnalyzeVolume(gt_array, pred_array, fixed_img_name='MR', moving_img_name='PCCT')\n",
    "        # scores = analysis.evaluation_metrics()\n",
    "        # print(scores)\n",
    "        # pdb.set_trace()\n",
    "        # analysis.create_scatter_plot(scores)\n",
    "    # else:\n",
    "    #     continue\n"
   ]
  },
  {
   "cell_type": "code",
   "execution_count": 14,
   "metadata": {},
   "outputs": [
    {
     "name": "stdout",
     "output_type": "stream",
     "text": [
      "pred_array: 0\n",
      "gt_array: 0\n"
     ]
    }
   ],
   "source": [
    "print('pred_array:', pred_array.min())\n",
    "print('gt_array:', gt_array.min())\n"
   ]
  },
  {
   "cell_type": "code",
   "execution_count": 16,
   "metadata": {},
   "outputs": [
    {
     "name": "stdout",
     "output_type": "stream",
     "text": [
      "Dice: \t 0.0\n"
     ]
    }
   ],
   "source": [
    "# pdb.set_trace()\n",
    "\n",
    "overlap_measures_filter = sitk.LabelOverlapMeasuresImageFilter()\n",
    "overlap_measures_filter.Execute(gt_itk, new_pred_itk)\n",
    "dsc = overlap_measures_filter.GetDiceCoefficient()\n",
    "# hausdorff_distance_filter = sitk.HausdorffDistanceImageFilter()\n",
    "# hausdorff_distance_filter.Execute(gt_itk, new_pred_itk)\n",
    "# hdd = hausdorff_distance_filter.GetHausdorffDistance()\n",
    "\n",
    "print('Dice: \\t', dsc)# '\\n Hausdorff disctance: \\t', hdd)"
   ]
  },
  {
   "cell_type": "code",
   "execution_count": 18,
   "metadata": {},
   "outputs": [
    {
     "name": "stdout",
     "output_type": "stream",
     "text": [
      "C:\\Tim\\Software\\Elastix\\elastix.exe -f E:07_2017_MR.nrrd -m E:\\ME_data_mhd\\07_2017\\07_2017.mhd -p C:\\Users\\T2025\\Desktop\\cadaver_knee_study\\code\\elastix_parameter_files\\parameters_MR_pcct.txt -p C:\\Users\\T2025\\Desktop\\cadaver_knee_study\\code\\elastix_parameter_files\\Parameters_BSpline_adjusted.txt -out E:\\TEST_full_img\\07_2017\n"
     ]
    },
    {
     "ename": "TransformixError",
     "evalue": "Transformix crashed with code 1 for command 'C:\\Tim\\Software\\Elastix\\transformix.exe -tp E:\\TEST_full_img\\TransformParameters.0.txt -out E:\\TEST_full_img\\transformix_results0 -in E:\\TUe_segmentations_PCCT\\07_2017\\07_2017_femoral_cartilage.nrrd'.",
     "output_type": "error",
     "traceback": [
      "\u001b[1;31m---------------------------------------------------------------------------\u001b[0m",
      "\u001b[1;31mTransformixError\u001b[0m                          Traceback (most recent call last)",
      "Cell \u001b[1;32mIn[18], line 35\u001b[0m\n\u001b[0;32m     33\u001b[0m \u001b[38;5;66;03m# pdb.set_trace()\u001b[39;00m\n\u001b[0;32m     34\u001b[0m transformation_file_dir \u001b[38;5;241m=\u001b[39m os\u001b[38;5;241m.\u001b[39mpath\u001b[38;5;241m.\u001b[39mjoin(results_path)\n\u001b[1;32m---> 35\u001b[0m \u001b[43ma\u001b[49m\u001b[38;5;241;43m.\u001b[39;49m\u001b[43mapply_transformation\u001b[49m\u001b[43m(\u001b[49m\u001b[43mtransformation_file_dir\u001b[49m\u001b[43m,\u001b[49m\u001b[43m \u001b[49m\u001b[43msegmentation_file\u001b[49m\u001b[43m,\u001b[49m\u001b[43m \u001b[49m\u001b[43mtransformix_path\u001b[49m\u001b[38;5;241;43m=\u001b[39;49m\u001b[43mtransformix_path\u001b[49m\u001b[43m)\u001b[49m\n",
      "File \u001b[1;32mc:\\Users\\T2025\\Desktop\\cadaver_knee_study\\code\\utils\\MR_pcct_registration.py:158\u001b[0m, in \u001b[0;36mImage_Registration.apply_transformation\u001b[1;34m(self, transformation_file_dir, segmentation_img, fixed_image, moving_image, transformix_path)\u001b[0m\n\u001b[0;32m    151\u001b[0m \u001b[38;5;66;03m# pdb.set_trace()\u001b[39;00m\n\u001b[0;32m    152\u001b[0m \u001b[38;5;66;03m# pdb.set_trace()\u001b[39;00m\n\u001b[0;32m    153\u001b[0m \u001b[38;5;66;03m# make code indicating what knee tructure it is:\u001b[39;00m\n\u001b[0;32m    154\u001b[0m \u001b[38;5;66;03m# knee_struct = spec_results_path.split(\"_\",3)[-1].split(\"_\",4)  \u001b[39;00m\n\u001b[0;32m    155\u001b[0m \u001b[38;5;66;03m# pdb.set_trace()\u001b[39;00m\n\u001b[0;32m    157\u001b[0m tr \u001b[38;5;241m=\u001b[39m elastix\u001b[38;5;241m.\u001b[39mTransformixInterface(parameters\u001b[38;5;241m=\u001b[39mtransform_file1, transformix_path\u001b[38;5;241m=\u001b[39mtransformix_path)\n\u001b[1;32m--> 158\u001b[0m \u001b[43mtr\u001b[49m\u001b[38;5;241;43m.\u001b[39;49m\u001b[43mtransform_image\u001b[49m\u001b[43m(\u001b[49m\u001b[43mimage_path\u001b[49m\u001b[43m \u001b[49m\u001b[38;5;241;43m=\u001b[39;49m\u001b[43m \u001b[49m\u001b[43msegmentation_img\u001b[49m\u001b[43m,\u001b[49m\u001b[43m \u001b[49m\u001b[43moutput_dir\u001b[49m\u001b[38;5;241;43m=\u001b[39;49m\u001b[43mtr_output_dir1\u001b[49m\u001b[43m)\u001b[49m\n",
      "File \u001b[1;32mc:\\Users\\T2025\\.conda\\envs\\cadaverstudy\\Lib\\site-packages\\elastix\\transformix_interface.py:168\u001b[0m, in \u001b[0;36mTransformixInterface.transform_image\u001b[1;34m(self, image_path, output_dir, verbose)\u001b[0m\n\u001b[0;32m    161\u001b[0m \u001b[38;5;28;01mdef\u001b[39;00m \u001b[38;5;21mtransform_image\u001b[39m(\u001b[38;5;28mself\u001b[39m, image_path, output_dir\u001b[38;5;241m=\u001b[39m\u001b[38;5;28;01mNone\u001b[39;00m, verbose\u001b[38;5;241m=\u001b[39m\u001b[38;5;28;01mTrue\u001b[39;00m):\n\u001b[0;32m    163\u001b[0m     command \u001b[38;5;241m=\u001b[39m [\u001b[38;5;28mself\u001b[39m\u001b[38;5;241m.\u001b[39mtransformix_path,\n\u001b[0;32m    164\u001b[0m                \u001b[38;5;124m'\u001b[39m\u001b[38;5;124m-tp\u001b[39m\u001b[38;5;124m'\u001b[39m, \u001b[38;5;28mself\u001b[39m\u001b[38;5;241m.\u001b[39mparameter_file,\n\u001b[0;32m    165\u001b[0m                \u001b[38;5;124m'\u001b[39m\u001b[38;5;124m-out\u001b[39m\u001b[38;5;124m'\u001b[39m, output_dir,\n\u001b[0;32m    166\u001b[0m                \u001b[38;5;124m'\u001b[39m\u001b[38;5;124m-in\u001b[39m\u001b[38;5;124m'\u001b[39m, image_path]\n\u001b[1;32m--> 168\u001b[0m     \u001b[38;5;28;43mself\u001b[39;49m\u001b[38;5;241;43m.\u001b[39;49m\u001b[43m_execute\u001b[49m\u001b[43m(\u001b[49m\u001b[43mcommand\u001b[49m\u001b[43m,\u001b[49m\u001b[43m \u001b[49m\u001b[43mverbose\u001b[49m\u001b[43m)\u001b[49m\n\u001b[0;32m    169\u001b[0m     after \u001b[38;5;241m=\u001b[39m os\u001b[38;5;241m.\u001b[39mlistdir(output_dir)\n\u001b[0;32m    172\u001b[0m     \u001b[38;5;66;03m# Find out to which file the result was written\u001b[39;00m\n",
      "File \u001b[1;32mc:\\Users\\T2025\\.conda\\envs\\cadaverstudy\\Lib\\site-packages\\elastix\\transformix_interface.py:68\u001b[0m, in \u001b[0;36mTransformixInterface._execute\u001b[1;34m(self, command, verbose)\u001b[0m\n\u001b[0;32m     66\u001b[0m \u001b[38;5;66;03m# Check if succesful\u001b[39;00m\n\u001b[0;32m     67\u001b[0m \u001b[38;5;28;01mif\u001b[39;00m proc\u001b[38;5;241m.\u001b[39mreturncode \u001b[38;5;241m!=\u001b[39m \u001b[38;5;241m0\u001b[39m:\n\u001b[1;32m---> 68\u001b[0m     \u001b[38;5;28;01mraise\u001b[39;00m TransformixError(proc\u001b[38;5;241m.\u001b[39mreturncode, \u001b[38;5;124m'\u001b[39m\u001b[38;5;124m \u001b[39m\u001b[38;5;124m'\u001b[39m\u001b[38;5;241m.\u001b[39mjoin(command))\n\u001b[0;32m     69\u001b[0m \u001b[38;5;28;01mif\u001b[39;00m verbose:\n\u001b[0;32m     70\u001b[0m     logger\u001b[38;5;241m.\u001b[39minfo(\u001b[38;5;124m'\u001b[39m\u001b[38;5;124mFinished command \u001b[39m\u001b[38;5;124m'\u001b[39m \u001b[38;5;241m+\u001b[39m \u001b[38;5;124m'\u001b[39m\u001b[38;5;124m \u001b[39m\u001b[38;5;124m'\u001b[39m\u001b[38;5;241m.\u001b[39mjoin(command))\n",
      "\u001b[1;31mTransformixError\u001b[0m: Transformix crashed with code 1 for command 'C:\\Tim\\Software\\Elastix\\transformix.exe -tp E:\\TEST_full_img\\TransformParameters.0.txt -out E:\\TEST_full_img\\transformix_results0 -in E:\\TUe_segmentations_PCCT\\07_2017\\07_2017_femoral_cartilage.nrrd'."
     ]
    }
   ],
   "source": [
    "from utils import Image_Registration\n",
    "import os\n",
    "import pdb\n",
    "# pdb.set_trace()\n",
    "fixed_image = r\"E:07_2017_MR.nrrd\"\n",
    "moving_image = r\"E:\\ME_data_mhd\\07_2017\\07_2017.mhd\"\n",
    "\n",
    "# root_MR_dir = r\"E:\\MR_masks_shrunk\" #r\"E:\\TUe_masked_MR\"\n",
    "# root_PCCT_dir =  r\"E:\\segmentations PCCT Tim\\bone_segs\\nrrd\"\n",
    "\n",
    "results_path = r\"E:\\TEST_full_img\"\n",
    "\n",
    "elastix_path = os.path.join(r'C:\\Tim\\Software\\Elastix\\elastix.exe')\n",
    "transformix_path = os.path.join(r'C:\\Tim\\Software\\Elastix\\transformix.exe')\n",
    "affine_parameter_file = r'C:\\Users\\T2025\\Desktop\\cadaver_knee_study\\code\\elastix_parameter_files\\parameters_MR_pcct.txt'\n",
    "bspline_parameter_file = r'C:\\Users\\T2025\\Desktop\\cadaver_knee_study\\code\\elastix_parameter_files\\Parameters_BSpline_adjusted.txt'\n",
    "\n",
    "\n",
    "a = Image_Registration()\n",
    "\n",
    "a.initialize_elastix(elastix_path, transformix_path, \n",
    "                         parameter_files=[affine_parameter_file, bspline_parameter_file], \n",
    "                         fixed_image=fixed_image, moving_image=moving_image, \n",
    "                         fixed_im_mask=None, results_path=results_path,\n",
    "                        #  anatomical_structure='femur'\n",
    "                         )\n",
    "a.run_elastix()\n",
    "\n",
    "\n",
    "\n",
    "segmentation_file = r'E:\\TUe_segmentations_PCCT\\07_2017\\07_2017_femoral_cartilage.nrrd' # PCCT\n",
    "\n",
    "# pdb.set_trace()\n",
    "transformation_file_dir = os.path.join(results_path, '07_2017')\n",
    "a.apply_transformation(transformation_file_dir, segmentation_file, transformix_path=transformix_path)"
   ]
  },
  {
   "cell_type": "code",
   "execution_count": null,
   "metadata": {},
   "outputs": [],
   "source": []
  }
 ],
 "metadata": {
  "kernelspec": {
   "display_name": "cadaverstudy",
   "language": "python",
   "name": "python3"
  },
  "language_info": {
   "codemirror_mode": {
    "name": "ipython",
    "version": 3
   },
   "file_extension": ".py",
   "mimetype": "text/x-python",
   "name": "python",
   "nbconvert_exporter": "python",
   "pygments_lexer": "ipython3",
   "version": "3.12.2"
  }
 },
 "nbformat": 4,
 "nbformat_minor": 2
}
