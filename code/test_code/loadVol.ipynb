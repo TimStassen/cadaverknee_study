{
 "cells": [
  {
   "cell_type": "code",
   "execution_count": 1,
   "metadata": {},
   "outputs": [],
   "source": [
    "import os\n",
    "import SimpleITK as sitk\n",
    "import numpy as np\n",
    "import utils\n",
    "import matplotlib.pyplot as plt\n",
    "import pydicom"
   ]
  },
  {
   "cell_type": "code",
   "execution_count": null,
   "metadata": {},
   "outputs": [],
   "source": [
    "\n",
    "def order_by_slice_location(slice):\n",
    "    return float(slice.GetMetaData('0020|1041'))\n",
    "\n",
    "# def non_contrast_only(slice):\n",
    "#     if 'Monoenergetic Plus Knee Noncontrast#0' in slice.GetMetaData('0008|103E'):\n",
    "#         return True\n",
    "\n",
    "path = r'C:\\Users\\T2025\\Desktop\\cadaver_knee_study\\data\\PCCT\\ME_data\\07_2017'\n",
    "dicom_filenames = os.listdir(path)\n",
    "\n",
    "# only include the non-constrast images\n",
    "list_of_slices = []\n",
    "for filename in dicom_filenames:\n",
    "    dicom_path = os.path.join(path, filename)\n",
    "    slice = sitk.ReadImage(dicom_path)\n",
    "    if 'Monoenergetic Plus Knee Noncontrast#0' in slice.GetMetaData('0008|103e'):\n",
    "        list_of_slices.append(slice)\n",
    "\n",
    "list_of_slices.sort(key=order_by_slice_location, reverse=True)\n",
    "\n",
    "\n",
    "volume_list = []\n",
    "for slice in list_of_slices:\n",
    "    volume_list.append(sitk.GetArrayViewFromImage(slice)[0])\n",
    "\n",
    "\n",
    "image_array = np.array(volume_list)"
   ]
  },
  {
   "cell_type": "code",
   "execution_count": null,
   "metadata": {},
   "outputs": [],
   "source": [
    "import matplotlib.pyplot as plt\n",
    "from scrollview import ScrollView\n",
    "%matplotlib qt\n",
    "\n",
    "plt.imshow(image_array[222])\n",
    "plt.show()\n",
    "\n",
    "fig, ax = plt.subplots()\n",
    "ScrollView(image_array).plot(ax, cmap='bone')\n"
   ]
  },
  {
   "cell_type": "code",
   "execution_count": null,
   "metadata": {},
   "outputs": [],
   "source": [
    "import pydicom \n",
    "\n",
    "pydicom.dcmread(r'C:\\Users\\T2025\\Desktop\\cadaver_knee_study\\data\\PCCT\\ME_data\\07_2017\\Beeldvorming-Dr.CT.Knie_ortho(Adul.706.1.2024.04.12.15.26.50.347.45936128.dcm') "
   ]
  },
  {
   "cell_type": "code",
   "execution_count": null,
   "metadata": {},
   "outputs": [],
   "source": [
    "import preprocessPCCT as preproc\n",
    "path = r'D:\\ME_data\\01_2019'\n",
    "image3D = preproc.create3D_input(path)\n"
   ]
  },
  {
   "cell_type": "code",
   "execution_count": null,
   "metadata": {},
   "outputs": [],
   "source": []
  },
  {
   "cell_type": "code",
   "execution_count": null,
   "metadata": {},
   "outputs": [],
   "source": [
    "input_path = r'D:\\test_mov\\*.dcm' # fixed 7_2017 moving 01_2019\n",
    "output_path = r'D:\\mhd_files\\01_2019\\01_2019' \n",
    "\n",
    "utils.dcm2mhd(input_path,output_path)"
   ]
  },
  {
   "cell_type": "code",
   "execution_count": null,
   "metadata": {},
   "outputs": [],
   "source": [
    "mhd_path = r'C:\\Users\\20201900\\Desktop\\knees\\01_2019\\01_2019.mhd'\n",
    "itk_image = sitk.ReadImage(mhd_path)\n",
    "image_array = sitk.GetArrayViewFromImage(itk_image)"
   ]
  },
  {
   "cell_type": "code",
   "execution_count": null,
   "metadata": {},
   "outputs": [],
   "source": [
    "print(image_array.shape)\n",
    "\n",
    "# plot the image\n",
    "plt.imshow(image_array[:,:,250], cmap='gray')\n",
    "plt.show()"
   ]
  },
  {
   "cell_type": "code",
   "execution_count": null,
   "metadata": {},
   "outputs": [],
   "source": [
    "mhd_path = r'C:\\Users\\20201900\\Desktop\\Master BME\\8DM20\\ProcessedData\\128\\128_mr_bffe.mhd'\n",
    "itk_image = sitk.ReadImage(mhd_path)\n",
    "image_array = sitk.GetArrayViewFromImage(itk_image)\n",
    "print(image_array.shape)"
   ]
  },
  {
   "cell_type": "code",
   "execution_count": null,
   "metadata": {},
   "outputs": [],
   "source": [
    "\n",
    "# plot the image\n",
    "plt.imshow(image_array[:,:,130], cmap='gray')\n",
    "plt.show()"
   ]
  },
  {
   "cell_type": "code",
   "execution_count": null,
   "metadata": {},
   "outputs": [],
   "source": [
    "mhd_path = r'C:\\Users\\20201900\\Desktop\\Master BME\\8DM20\\ProcessedData\\108\\108_mr_bffe.mhd'\n",
    "itk_image = sitk.ReadImage(mhd_path)\n",
    "image_array = sitk.GetArrayViewFromImage(itk_image)\n",
    "print(image_array.shape)"
   ]
  },
  {
   "cell_type": "code",
   "execution_count": null,
   "metadata": {},
   "outputs": [],
   "source": [
    "# plot the image\n",
    "plt.imshow(image_array[:,:,130], cmap='gray')\n",
    "plt.show()"
   ]
  },
  {
   "cell_type": "code",
   "execution_count": null,
   "metadata": {},
   "outputs": [],
   "source": [
    "mhd_path = r'C:\\Users\\20201900\\Desktop\\Master BME\\8DM20\\ProcessedData\\102\\102_mr_bffe.mhd'\n",
    "itk_image = sitk.ReadImage(mhd_path)\n",
    "image_array = sitk.GetArrayViewFromImage(itk_image)\n",
    "print(image_array.shape)"
   ]
  },
  {
   "cell_type": "code",
   "execution_count": null,
   "metadata": {},
   "outputs": [],
   "source": [
    "mhd_path = r'C:\\Users\\20201900\\Desktop\\Master BME\\8DM20\\ProcessedData\\125\\125_mr_bffe.mhd'\n",
    "itk_image = sitk.ReadImage(mhd_path)\n",
    "image_array = sitk.GetArrayViewFromImage(itk_image)\n",
    "print(image_array.shape)"
   ]
  },
  {
   "cell_type": "code",
   "execution_count": null,
   "metadata": {},
   "outputs": [],
   "source": [
    "import matplotlib.pyplot as plt\n",
    "import numpy as np\n",
    "import imageio"
   ]
  },
  {
   "cell_type": "code",
   "execution_count": null,
   "metadata": {},
   "outputs": [],
   "source": [
    "original_fixed_img = r\"D:\\dcm2mhd\\01_2019\\01_2019.mhd\"\n",
    "registered_img = r\"D:\\atlas_registration_results_test\\bspline_atlas_img_07_2017_fixed_1_2019\\transformix_results\\result.mhd\"\n",
    "original_moving_img = r\"D:\\dcm2mhd\\07_2017\\07_2017.mhd\""
   ]
  },
  {
   "cell_type": "code",
   "execution_count": null,
   "metadata": {},
   "outputs": [],
   "source": [
    "# # Load the fixed, moving, and result images\n",
    "fixed_image = imageio.v2.imread(original_fixed_img)[:,:,250]\n",
    "moving_image = imageio.v2.imread(original_moving_img)[:,:,250]\n",
    "transformed_moving_image = imageio.v2.imread(registered_img)[:,:,250]\n",
    "\n",
    "# Show the resulting image side by side with the fixed and moving image\n",
    "fig, ax = plt.subplots(1, 3, figsize=(20, 5))\n",
    "ax[0].imshow(fixed_image, cmap='gray')\n",
    "ax[0].set_title('Fixed image')\n",
    "ax[1].imshow(moving_image, cmap='gray')\n",
    "ax[1].set_title('Moving image')\n",
    "ax[2].imshow(transformed_moving_image, cmap='gray')\n",
    "ax[2].set_title('Transformed\\nmoving image')"
   ]
  },
  {
   "cell_type": "code",
   "execution_count": null,
   "metadata": {},
   "outputs": [],
   "source": [
    "import numpy\n",
    "from stl import mesh\n",
    "\n",
    "# Using an existing stl file:\n",
    "your_mesh = mesh.Mesh.from_file('some_file.stl')"
   ]
  },
  {
   "cell_type": "code",
   "execution_count": null,
   "metadata": {},
   "outputs": [],
   "source": [
    "import numpy\n",
    "from stl import mesh\n",
    "from mpl_toolkits import mplot3d\n",
    "from matplotlib import pyplot\n",
    "\n",
    "# Create a new plot\n",
    "figure = pyplot.figure()\n",
    "axes = figure.add_subplot(projection='3d')\n",
    "\n",
    "# Load the STL files and add the vectors to the plot\n",
    "your_mesh = mesh.Mesh.from_file(r'D:\\\\segmentations PCCT Tim\\\\masks\\\\Segmentation_mask_01_2019.stl')\n",
    "axes.add_collection3d(mplot3d.art3d.Poly3DCollection(your_mesh.vectors))\n",
    "\n",
    "# Auto scale to the mesh size\n",
    "scale = your_mesh.points.flatten()\n",
    "axes.auto_scale_xyz(scale, scale, scale)\n",
    "\n",
    "# Show the plot to the screen\n",
    "pyplot.show()"
   ]
  },
  {
   "cell_type": "code",
   "execution_count": null,
   "metadata": {},
   "outputs": [],
   "source": [
    "import plotly.graph_objects as go\n"
   ]
  },
  {
   "cell_type": "code",
   "execution_count": 8,
   "metadata": {},
   "outputs": [
    {
     "ename": "AttributeError",
     "evalue": "'FileDataset' object has no attribute 'CTDIvol'",
     "output_type": "error",
     "traceback": [
      "\u001b[1;31m---------------------------------------------------------------------------\u001b[0m",
      "\u001b[1;31mAttributeError\u001b[0m                            Traceback (most recent call last)",
      "Cell \u001b[1;32mIn[8], line 11\u001b[0m\n\u001b[0;32m      9\u001b[0m         \u001b[38;5;28mslice\u001b[39m \u001b[38;5;241m=\u001b[39m pydicom\u001b[38;5;241m.\u001b[39mread_file(os\u001b[38;5;241m.\u001b[39mpath\u001b[38;5;241m.\u001b[39mjoin(root_folder, session, scan, dir_list3[\u001b[38;5;241m0\u001b[39m], dir_list4[\u001b[38;5;241m1\u001b[39m]))\n\u001b[0;32m     10\u001b[0m         \u001b[38;5;66;03m# slice = sitk.ReadImage(os.path.join( root_folder, session, scan, dir_list3[0], dir_list4))\u001b[39;00m\n\u001b[1;32m---> 11\u001b[0m         dose \u001b[38;5;241m=\u001b[39m \u001b[38;5;28mfloat\u001b[39m(\u001b[38;5;28;43mslice\u001b[39;49m\u001b[38;5;241;43m.\u001b[39;49m\u001b[43mCTDIvol\u001b[49m)\n\u001b[0;32m     12\u001b[0m         doses\u001b[38;5;241m.\u001b[39mappend(dose)\n\u001b[0;32m     14\u001b[0m \u001b[38;5;28mprint\u001b[39m(\u001b[38;5;124m'\u001b[39m\u001b[38;5;124mCDTI_vol \u001b[39m\u001b[38;5;130;01m\\n\u001b[39;00m\u001b[38;5;124m'\u001b[39m, \u001b[38;5;124m'\u001b[39m\u001b[38;5;124mmean: \u001b[39m\u001b[38;5;130;01m\\t\u001b[39;00m\u001b[38;5;124m'\u001b[39m, np\u001b[38;5;241m.\u001b[39mmean(doses), \u001b[38;5;124m'\u001b[39m\u001b[38;5;130;01m\\n\u001b[39;00m\u001b[38;5;124m std:\u001b[39m\u001b[38;5;124m'\u001b[39m , np\u001b[38;5;241m.\u001b[39mstd(doses))\n",
      "File \u001b[1;32mc:\\Users\\20201900\\Anaconda3\\envs\\cadaverstudy\\Lib\\site-packages\\pydicom\\dataset.py:908\u001b[0m, in \u001b[0;36mDataset.__getattr__\u001b[1;34m(self, name)\u001b[0m\n\u001b[0;32m    906\u001b[0m     \u001b[38;5;28;01mreturn\u001b[39;00m {}\n\u001b[0;32m    907\u001b[0m \u001b[38;5;66;03m# Try the base class attribute getter (fix for issue 332)\u001b[39;00m\n\u001b[1;32m--> 908\u001b[0m \u001b[38;5;28;01mreturn\u001b[39;00m \u001b[38;5;28;43mobject\u001b[39;49m\u001b[38;5;241;43m.\u001b[39;49m\u001b[38;5;21;43m__getattribute__\u001b[39;49m\u001b[43m(\u001b[49m\u001b[38;5;28;43mself\u001b[39;49m\u001b[43m,\u001b[49m\u001b[43m \u001b[49m\u001b[43mname\u001b[49m\u001b[43m)\u001b[49m\n",
      "\u001b[1;31mAttributeError\u001b[0m: 'FileDataset' object has no attribute 'CTDIvol'"
     ]
    }
   ],
   "source": [
    "root_folder =  r'D:\\cadaver_knee_study\\data\\PCCT'\n",
    "doses = []\n",
    "dir_list1 = os.listdir(root_folder)\n",
    "for session in dir_list1:\n",
    "    dir_list2 = os.listdir(os.path.join( root_folder, session))\n",
    "    for scan in dir_list2:\n",
    "        dir_list3 = os.listdir(os.path.join( root_folder, session, scan))\n",
    "        dir_list4 = os.listdir(os.path.join( root_folder, session, scan, dir_list3[0]))\n",
    "        slice = pydicom.read_file(os.path.join(root_folder, session, scan, dir_list3[0], dir_list4[1]))\n",
    "        # slice = sitk.ReadImage(os.path.join( root_folder, session, scan, dir_list3[0], dir_list4))\n",
    "        dose = float(slice.CTDIvol)\n",
    "        doses.append(dose)\n",
    "\n",
    "print('CDTI_vol \\n', 'mean: \\t', np.mean(doses), '\\n std:' , np.std(doses))\n"
   ]
  },
  {
   "cell_type": "code",
   "execution_count": 9,
   "metadata": {},
   "outputs": [
    {
     "ename": "RuntimeError",
     "evalue": "Exception thrown in SimpleITK Image_GetMetaData: D:\\a\\1\\sitk-build\\ITK\\Modules\\Core\\Common\\src\\itkMetaDataDictionary.cxx:77:\nITK ERROR: Key '(0008|0005)' does not exist ",
     "output_type": "error",
     "traceback": [
      "\u001b[1;31m---------------------------------------------------------------------------\u001b[0m",
      "\u001b[1;31mRuntimeError\u001b[0m                              Traceback (most recent call last)",
      "\u001b[1;32m~\\AppData\\Local\\Temp\\ipykernel_32756\\2785658595.py\u001b[0m in \u001b[0;36m?\u001b[1;34m()\u001b[0m\n\u001b[0;32m      1\u001b[0m \u001b[0mslice\u001b[0m \u001b[1;33m=\u001b[0m \u001b[0mslice\u001b[0m \u001b[1;33m=\u001b[0m \u001b[0msitk\u001b[0m\u001b[1;33m.\u001b[0m\u001b[0mReadImage\u001b[0m\u001b[1;33m(\u001b[0m\u001b[0mos\u001b[0m\u001b[1;33m.\u001b[0m\u001b[0mpath\u001b[0m\u001b[1;33m.\u001b[0m\u001b[0mjoin\u001b[0m\u001b[1;33m(\u001b[0m \u001b[0mroot_folder\u001b[0m\u001b[1;33m,\u001b[0m \u001b[0msession\u001b[0m\u001b[1;33m,\u001b[0m \u001b[0mscan\u001b[0m\u001b[1;33m,\u001b[0m \u001b[0mdir_list3\u001b[0m\u001b[1;33m[\u001b[0m\u001b[1;36m0\u001b[0m\u001b[1;33m]\u001b[0m\u001b[1;33m,\u001b[0m \u001b[0mdir_list4\u001b[0m\u001b[1;33m[\u001b[0m\u001b[1;36m1\u001b[0m\u001b[1;33m]\u001b[0m\u001b[1;33m)\u001b[0m\u001b[1;33m)\u001b[0m\u001b[1;33m\u001b[0m\u001b[1;33m\u001b[0m\u001b[0m\n\u001b[0;32m      2\u001b[0m \u001b[1;31m# print(slice)\u001b[0m\u001b[1;33m\u001b[0m\u001b[1;33m\u001b[0m\u001b[0m\n\u001b[1;32m----> 3\u001b[1;33m \u001b[0mdose\u001b[0m \u001b[1;33m=\u001b[0m \u001b[0mslice\u001b[0m\u001b[1;33m.\u001b[0m\u001b[0mGetMetaData\u001b[0m\u001b[1;33m(\u001b[0m\u001b[1;34m'(0008|0005)'\u001b[0m\u001b[1;33m)\u001b[0m\u001b[1;33m\u001b[0m\u001b[1;33m\u001b[0m\u001b[0m\n\u001b[0m",
      "\u001b[1;32mc:\\Users\\20201900\\Anaconda3\\envs\\cadaverstudy\\Lib\\site-packages\\SimpleITK\\SimpleITK.py\u001b[0m in \u001b[0;36m?\u001b[1;34m(self, key)\u001b[0m\n\u001b[0;32m   3467\u001b[0m         \u001b[0mOther\u001b[0m \u001b[0mtypes\u001b[0m \u001b[0mare\u001b[0m \u001b[0mprinted\u001b[0m \u001b[0mto\u001b[0m \u001b[0mstring\u001b[0m \u001b[0mbefore\u001b[0m \u001b[0mreturning\u001b[0m\u001b[1;33m.\u001b[0m\u001b[1;33m\u001b[0m\u001b[1;33m\u001b[0m\u001b[0m\n\u001b[0;32m   3468\u001b[0m \u001b[1;33m\u001b[0m\u001b[0m\n\u001b[0;32m   3469\u001b[0m \u001b[1;33m\u001b[0m\u001b[0m\n\u001b[0;32m   3470\u001b[0m         \"\"\"\n\u001b[1;32m-> 3471\u001b[1;33m         \u001b[1;32mreturn\u001b[0m \u001b[0m_SimpleITK\u001b[0m\u001b[1;33m.\u001b[0m\u001b[0mImage_GetMetaData\u001b[0m\u001b[1;33m(\u001b[0m\u001b[0mself\u001b[0m\u001b[1;33m,\u001b[0m \u001b[0mkey\u001b[0m\u001b[1;33m)\u001b[0m\u001b[1;33m\u001b[0m\u001b[1;33m\u001b[0m\u001b[0m\n\u001b[0m",
      "\u001b[1;31mRuntimeError\u001b[0m: Exception thrown in SimpleITK Image_GetMetaData: D:\\a\\1\\sitk-build\\ITK\\Modules\\Core\\Common\\src\\itkMetaDataDictionary.cxx:77:\nITK ERROR: Key '(0008|0005)' does not exist "
     ]
    }
   ],
   "source": [
    "slice = slice = sitk.ReadImage(os.path.join( root_folder, session, scan, dir_list3[0], dir_list4[1]))\n",
    "# print(slice)\n",
    "dose = slice.GetMetaData('(0008|0005)')\n"
   ]
  },
  {
   "cell_type": "code",
   "execution_count": 7,
   "metadata": {},
   "outputs": [
    {
     "data": {
      "text/plain": [
       "'Schaedel_nach_C.CT.Knie(Adult).17.1.2024.02.19.15.02.17.192.77241807.dcm'"
      ]
     },
     "execution_count": 7,
     "metadata": {},
     "output_type": "execute_result"
    }
   ],
   "source": [
    "dir_list4 = os.listdir(os.path.join( root_folder, session, scan, dir_list3[0]))[0]\n",
    "dir_list4"
   ]
  },
  {
   "cell_type": "code",
   "execution_count": 11,
   "metadata": {},
   "outputs": [
    {
     "data": {
      "text/plain": [
       "'D:\\\\cadaver_knee_study\\\\data\\\\PCCT\\\\sessie 1_30-01-2024\\\\1. 10_2019\\\\0.4_Qr40\\\\Schaedel_nach_C.CT.Knie(Adult).17.1.2024.02.19.15.02.17.192.77241807.dcm'"
      ]
     },
     "execution_count": 11,
     "metadata": {},
     "output_type": "execute_result"
    }
   ],
   "source": [
    "os.path.join( root_folder, session, scan, dir_list3[0], dir_list4)"
   ]
  },
  {
   "cell_type": "code",
   "execution_count": 9,
   "metadata": {},
   "outputs": [
    {
     "name": "stdout",
     "output_type": "stream",
     "text": [
      "(0008|0005) = = \"ISO_IR 100\"\n",
      "(0008|0008) = = \"ORIGINAL\\PRIMARY\\AXIAL\\VMI\\CT_SOM8 DEMEP\\ME70KEV\\COUNT\\SPP\"\n",
      "(0008|0012) = = \"20240130\"\n",
      "(0008|0013) = = \"151547.087279 \"\n",
      "(0008|0016) = = \"1.2.840.10008.5.1.4.1.1.2\"\n",
      "(0008|0018) = = \"1.3.12.2.1107.5.1.7.127117.30000024021914373520800056016\"\n",
      "(0008|0020) = = \"20240130\"\n",
      "(0008|0021) = = \"20240130\"\n",
      "(0008|0022) = = \"20240130\"\n",
      "(0008|0023) = = \"20240130\"\n",
      "(0008|002a) = = \"20240130150638.252000 \"\n",
      "(0008|0030) = = \"144948.027570 \"\n",
      "(0008|0031) = = \"151450.312321 \"\n",
      "(0008|0032) = = \"150638.252000 \"\n",
      "(0008|0033) = = \"151547.087279 \"\n",
      "(0008|0050) = = \"NLBMUM0007379797\"\n",
      "(0008|0060) = = \"CT\"\n",
      "(0008|0070) = = \"Siemens Healthineers\"\n",
      "(0008|0080) = = \"MUMC\"\n",
      "(0008|0081) = = \"P. Debyelaan\n",
      "Maastricht\n",
      "Limburg\n",
      "NL \"\n",
      "(0008|0090) = = \"\"\n",
      "(0008|1030) = = \"Knie(Adult) \"\n",
      "(0008|103e) = = \"102019 0,40 Qr40 Q3 L Monoenergetic Plus SPP_ME70 \"\n",
      "(0008|1040) = = \"Beeldvorming\"\n",
      "(0008|1090) = = \"NAEOTOM Alpha \"\n",
      "(0008|2111) = = \"Forced 'Reduced' Anonymity - Service\"\n",
      "(0008|3010) = = \"1.3.12.2.1107.5.1.7.127117.30000024021914373520800049402\"\n",
      "(0010|0010) = = \"Schaedel_nach_Cal \"\n",
      "(0010|0020) = = \"Schaedel_nach_Cal \"\n",
      "(0010|0030) = = \"20240219\"\n",
      "(0010|0040) = = \"F \"\n",
      "(0010|1010) = = \"111Y\"\n",
      "(0010|21c0) = = \"4\"\n",
      "(0012|0062) = = \"YES \"\n",
      "(0012|0063) = = \"Siemens Healthcare Service Use\"\n",
      "(0018|0015) = = \"EXTREMITY \"\n",
      "(0018|0050) = = \"0.4 \"\n",
      "(0018|0060) = = \"\"\n",
      "(0018|1000) = = \"127117\"\n",
      "(0018|1020) = = \"VA50A \"\n",
      "(0018|1050) = = \"0 \"\n",
      "(0018|1100) = = \"150 \"\n",
      "(0018|1110) = = \"1113\"\n",
      "(0018|1111) = = \"610 \"\n",
      "(0018|1120) = = \"0 \"\n",
      "(0018|1130) = = \"124.500 \"\n",
      "(0018|1150) = = \"1176\"\n",
      "(0018|1160) = = \"W1\"\n",
      "(0018|1210) = = \"Qr40v\\3 \"\n",
      "(0018|5100) = = \"FFS \"\n",
      "(0018|9305) = = \"1\"\n",
      "(0018|9306) = = \"0.2\"\n",
      "(0018|9307) = = \"24\"\n",
      "(0018|9311) = = \"0.85\"\n",
      "(0018|9313) = = \"0\\-124.5\\1484.19\"\n",
      "(0018|9361) = = \"YES \"\n",
      "(0020|000d) = = \"1.3.12.2.1107.5.1.7.127117.30000024021914373520800049403\"\n",
      "(0020|000e) = = \"1.3.12.2.1107.5.1.7.127117.30000024021914373520800056018\"\n",
      "(0020|0010) = = \"NLBMUM0005859412\"\n",
      "(0020|0011) = = \"17\"\n",
      "(0020|0012) = = \"301 \"\n",
      "(0020|0013) = = \"1 \"\n",
      "(0020|0032) = = \"-72.269515625\\-194.752515625\\1686.989 \"\n",
      "(0020|0037) = = \"1\\0\\0\\0\\1\\0 \"\n",
      "(0020|0052) = = \"1.3.12.2.1107.5.1.7.127117.30000024021914373520800049405\"\n",
      "(0020|1040) = = \"\"\n",
      "(0020|1041) = = \"1686.989\"\n",
      "(0020|4000) = = \"Links\n",
      "ME 70keV \"\n",
      "(0028|0002) = = \"1\"\n",
      "(0028|0004) = = \"MONOCHROME2 \"\n",
      "(0028|0010) = = \"512\"\n",
      "(0028|0011) = = \"512\"\n",
      "(0028|0030) = = \"0.29296875\\0.29296875 \"\n",
      "(0028|0100) = = \"16\"\n",
      "(0028|0101) = = \"16\"\n",
      "(0028|0102) = = \"15\"\n",
      "(0028|0103) = = \"0\"\n",
      "(0028|0120) = = \"0\"\n",
      "(0028|1050) = = \"600 \"\n",
      "(0028|1051) = = \"3000\"\n",
      "(0028|1052) = = \"-8192 \"\n",
      "(0028|1053) = = \"1 \"\n",
      "(0028|1054) = = \"HU\"\n",
      "(0028|1055) = = \"\"\n",
      "(ITK_original_direction) = = \"[UNKNOWN_PRINT_CHARACTERISTICS]\n",
      "\"\n",
      "(ITK_original_spacing) = = \"[UNKNOWN_PRINT_CHARACTERISTICS]\n",
      "\"\n"
     ]
    }
   ],
   "source": [
    "for k in slice.GetMetaDataKeys():\n",
    "        v = slice.GetMetaData(k)\n",
    "        print(f'({k}) = = \"{v}\"')"
   ]
  },
  {
   "cell_type": "code",
   "execution_count": 22,
   "metadata": {},
   "outputs": [
    {
     "data": {
      "text/plain": [
       "'D:\\\\cadaver_knee_study\\\\data\\\\PCCT\\\\sessie 1_30-01-2024\\\\1. 10_2019\\\\0.4_Qr40\\\\Schaedel_nach_C.CT.Knie(Adult).17.1.2024.02.19.15.02.17.192.77241807.dcm'"
      ]
     },
     "execution_count": 22,
     "metadata": {},
     "output_type": "execute_result"
    }
   ],
   "source": [
    "os.path.join(root_folder, session, scan, dir_list3[0], dir_list4)\n",
    "# slice = pydicom.read_file(os.path.join(root_folder, session, scan, dir_list3[0], dir_list4))\n",
    "# slice.PatientsName\n",
    "# dose = float(slice.CTDIvol)\n",
    "# .CTDIvol"
   ]
  },
  {
   "cell_type": "code",
   "execution_count": 10,
   "metadata": {},
   "outputs": [
    {
     "name": "stdout",
     "output_type": "stream",
     "text": [
      "CDTI_vol \n",
      " mean: \t 16.03906 \n",
      " std: 0.0006606057825971291\n"
     ]
    }
   ],
   "source": [
    "doses = [16.0388, 16.0391, 16.0380, 16.0388, 16.0383, 16.0398, 16.0393, 16.0404, 16.0393, 16.0388]\n",
    "\n",
    "print('CDTI_vol \\n', 'mean: \\t', np.mean(doses), '\\n std:' , np.std(doses))"
   ]
  },
  {
   "cell_type": "code",
   "execution_count": null,
   "metadata": {},
   "outputs": [],
   "source": []
  },
  {
   "cell_type": "code",
   "execution_count": null,
   "metadata": {},
   "outputs": [],
   "source": []
  }
 ],
 "metadata": {
  "kernelspec": {
   "display_name": "cadaverstudy",
   "language": "python",
   "name": "python3"
  },
  "language_info": {
   "codemirror_mode": {
    "name": "ipython",
    "version": 3
   },
   "file_extension": ".py",
   "mimetype": "text/x-python",
   "name": "python",
   "nbconvert_exporter": "python",
   "pygments_lexer": "ipython3",
   "version": "3.12.2"
  }
 },
 "nbformat": 4,
 "nbformat_minor": 2
}
