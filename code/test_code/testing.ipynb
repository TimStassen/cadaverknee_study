{
 "cells": [
  {
   "cell_type": "code",
   "execution_count": 3,
   "metadata": {},
   "outputs": [],
   "source": [
    "import os\n",
    "# import SimpleITK as sitk\n",
    "import elastix\n",
    "\n",
    "\n",
    "data_path = r'C:\\Users\\T2025\\Desktop\\cadaver_knee_study\\data\\PCCT\\sessie 1_30-01-2024\\2. 01_2019\\0.4_Qr40'\n"
   ]
  },
  {
   "cell_type": "code",
   "execution_count": null,
   "metadata": {},
   "outputs": [],
   "source": [
    "from __future__ import print_function, absolute_import\n",
    "import elastix\n",
    "import matplotlib.pyplot as plt\n",
    "import numpy as np\n",
    "import imageio\n",
    "import os\n",
    "import SimpleITK as sitk\n",
    "\n",
    "# IMPORTANT: these paths may differ on your system, depending on where\n",
    "# Elastix has been installed. Please set accordingly.\n",
    "ELASTIX_PATH = os.path.join(r'C:\\Tim\\Software\\Elastix')\n",
    "TRANSFORMIX_PATH = os.path.join(r'C:\\Tim\\Software\\Elastix')\n",
    "\n",
    "if not os.path.exists(ELASTIX_PATH):\n",
    "    raise IOError('Elastix cannot be found, please set the correct ELASTIX_PATH.')\n",
    "if not os.path.exists(TRANSFORMIX_PATH):\n",
    "    raise IOError('Transformix cannot be found, please set the correct TRANSFORMIX_PATH.')\n",
    "\n",
    "# Make a results directory if non exists\n",
    "if os.path.exists('results') is False:\n",
    "    os.mkdir('results')\n"
   ]
  },
  {
   "cell_type": "code",
   "execution_count": null,
   "metadata": {},
   "outputs": [],
   "source": [
    "fixed_image_path = os.path.join(data_path, 'Schaedel_nach_C.CT.Knie(Adult).28.15.2024.02.19.15.02.17.192.77332975.dcm')\n",
    "moving_image_path = os.path.join(data_path, 'Schaedel_nach_C.CT.Knie(Adult).28.18.2024.02.19.15.02.17.192.77333008.dcm')"
   ]
  },
  {
   "cell_type": "code",
   "execution_count": 4,
   "metadata": {},
   "outputs": [
    {
     "ename": "AttributeError",
     "evalue": "module 'SimpleITK' has no attribute 'GetDefaultParameterMap'",
     "output_type": "error",
     "traceback": [
      "\u001b[1;31m---------------------------------------------------------------------------\u001b[0m",
      "\u001b[1;31mAttributeError\u001b[0m                            Traceback (most recent call last)",
      "Cell \u001b[1;32mIn[4], line 3\u001b[0m\n\u001b[0;32m      1\u001b[0m fixedImage \u001b[38;5;241m=\u001b[39m  sitk\u001b[38;5;241m.\u001b[39mReadImage(os\u001b[38;5;241m.\u001b[39mpath\u001b[38;5;241m.\u001b[39mjoin(data_path,\u001b[38;5;124m'\u001b[39m\u001b[38;5;124mSchaedel_nach_C.CT.Knie(Adult).28.212.2024.02.19.15.02.17.192.77335142.dcm\u001b[39m\u001b[38;5;124m'\u001b[39m))\n\u001b[0;32m      2\u001b[0m movingImage \u001b[38;5;241m=\u001b[39m sitk\u001b[38;5;241m.\u001b[39mReadImage(os\u001b[38;5;241m.\u001b[39mpath\u001b[38;5;241m.\u001b[39mjoin(data_path,\u001b[38;5;124m'\u001b[39m\u001b[38;5;124mSchaedel_nach_C.CT.Knie(Adult).28.217.2024.02.19.15.02.17.192.77335197.dcm\u001b[39m\u001b[38;5;124m'\u001b[39m))\n\u001b[1;32m----> 3\u001b[0m parameterMap \u001b[38;5;241m=\u001b[39m \u001b[43msitk\u001b[49m\u001b[38;5;241;43m.\u001b[39;49m\u001b[43mGetDefaultParameterMap\u001b[49m(\u001b[38;5;124m'\u001b[39m\u001b[38;5;124mtranslation\u001b[39m\u001b[38;5;124m'\u001b[39m)\n\u001b[0;32m      5\u001b[0m elastixImageFilter \u001b[38;5;241m=\u001b[39m sitk\u001b[38;5;241m.\u001b[39mElastixImageFilter()\n\u001b[0;32m      6\u001b[0m elastixImageFilter\u001b[38;5;241m.\u001b[39mSetFixedImage(fixedImage)\n",
      "\u001b[1;31mAttributeError\u001b[0m: module 'SimpleITK' has no attribute 'GetDefaultParameterMap'"
     ]
    }
   ],
   "source": [
    "el = elastix.ElastixInterface(elastix_path=ELASTIX_PATH)\n",
    "el.register(\n",
    "    fixed_image=fixed_image_path,\n",
    "    moving_image=moving_image_path,\n",
    "    parameters=[os.path.join('example_data', 'parameters_bspline_multires_MR.txt')],\n",
    "    output_dir='results')\n",
    "\n",
    "# result_path = os.path.join('results', 'result.0.tiff')"
   ]
  },
  {
   "cell_type": "code",
   "execution_count": null,
   "metadata": {},
   "outputs": [],
   "source": [
    "transformixImageFilter = sitk.TransformixImageFilter()\n",
    "transformixImageFilter.SetTransformParameterMap(transformParameterMap)\n",
    "\n",
    "population = ['image1.hdr', 'image2.hdr', ... , 'imageN.hdr']\n",
    "\n",
    "for filename in population:\n",
    "    transformixImageFilter.SetMovingImage(sitk.ReadImage(filename))\n",
    "    transformixImageFilter.Execute()\n",
    "    sitk.WriteImage(transformixImageFilter.GetResultImage(), \"result_\"+filename)"
   ]
  }
 ],
 "metadata": {
  "kernelspec": {
   "display_name": "cadaverstudy",
   "language": "python",
   "name": "python3"
  },
  "language_info": {
   "codemirror_mode": {
    "name": "ipython",
    "version": 3
   },
   "file_extension": ".py",
   "mimetype": "text/x-python",
   "name": "python",
   "nbconvert_exporter": "python",
   "pygments_lexer": "ipython3",
   "version": "3.12.2"
  }
 },
 "nbformat": 4,
 "nbformat_minor": 2
}
