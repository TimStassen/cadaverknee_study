{
 "cells": [
  {
   "cell_type": "markdown",
   "metadata": {},
   "source": [
    "## Testing Notebook\n"
   ]
  },
  {
   "cell_type": "code",
   "execution_count": 1,
   "metadata": {},
   "outputs": [],
   "source": [
    "import os\n",
    "import pydicom\n",
    "\n",
    "root_folder = r\"C:\\Users\\T2025\\Desktop\\cadaver_knee_study\\data\\PCCT\\sessie 2_16-02-2024\"\n",
    "folder2 =  r\"7. 29_2017\"\n",
    "\n",
    "data_path = os.path.join(root_folder, folder2)\n",
    "files = os.listdir(data_path)\n",
    "\n",
    "slice1 = pydicom.dcmread(os.path.join(data_path, files[8]))\n",
    "slice2 = pydicom.dcmread(os.path.join(data_path, \"Schaedel_nach_C.CT.Knie_ortho(Adul.4.28.2024.02.19.14.53.24.435.26271143.dcm\"))\n"
   ]
  },
  {
   "cell_type": "code",
   "execution_count": null,
   "metadata": {},
   "outputs": [],
   "source": [
    "files[8]"
   ]
  },
  {
   "cell_type": "code",
   "execution_count": null,
   "metadata": {},
   "outputs": [],
   "source": [
    "print(slice)\n",
    "\n"
   ]
  },
  {
   "cell_type": "code",
   "execution_count": null,
   "metadata": {},
   "outputs": [],
   "source": [
    "info = slice[0x0008, 0x103e]\n",
    "info.value\n",
    "if \"29_2017\" and \"0,20\" and \"Br48\" in info.value:\n",
    "    print('True')"
   ]
  },
  {
   "cell_type": "code",
   "execution_count": null,
   "metadata": {},
   "outputs": [],
   "source": [
    "import shutil\n",
    "import os\n",
    "import pdb\n",
    "\n",
    "\n",
    "# r is for a raw string (prevents escape sequence errors)\n",
    "root_folder_path = r\"C:\\Users\\T2025\\Desktop\\cadaver_knee_study\\data\\PCCT\\sessie 2_16-02-2024\"\n",
    "knee_folders = os.listdir(root_folder_path)\n",
    "\n",
    "\n",
    "\n",
    "\n",
    "# sort files\n",
    "for k in knee_folders:\n",
    "\n",
    "    indir = os.listdir(os.path.join(root_folder_path, k))\n",
    "    only_files = [ f for f in indir if os.path.isfile(os.path.join(root_folder_path, k, f))]\n",
    "    count = 0\n",
    "    for dcm in only_files:\n",
    "        file = pydicom.dcmread(os.path.join(os.path.join(root_folder_path, k, dcm)))\n",
    "        file_info = slice[0x0008, 0x103e]\n",
    "        info.value\n",
    "        if \"29_2017\" and \"0,20\" and \"Br48\" in info.value:\n",
    "            count += 1\n",
    "        \n",
    "    print(count)"
   ]
  },
  {
   "cell_type": "code",
   "execution_count": null,
   "metadata": {},
   "outputs": [],
   "source": [
    "a  = \"bana goku tria sei\"\n",
    "\n",
    "\"goku\" and \"tria\" in a\n"
   ]
  },
  {
   "cell_type": "code",
   "execution_count": 4,
   "metadata": {},
   "outputs": [
    {
     "data": {
      "text/plain": [
       "'17_2016 0,20 Br72 Q3 L'"
      ]
     },
     "execution_count": 4,
     "metadata": {},
     "output_type": "execute_result"
    }
   ],
   "source": [
    "test_folder = r\"C:\\Users\\T2025\\Desktop\\cadaver_knee_study\\data\\PCCT\\sessie 2_16-02-2024\\8. 17_2016\\bone_0.2_Br72\\Schaedel_nach_C.CT.Knie_ortho(Adul.2.15.2024.02.19.14.37.37.787.22180239.dcm\" \n",
    "\n",
    "test_file = pydicom.dcmread(test_folder)\n",
    "file_info = test_file[0x0008, 0x103e]\n",
    "file_info.value\n",
    "\n"
   ]
  },
  {
   "cell_type": "code",
   "execution_count": null,
   "metadata": {},
   "outputs": [],
   "source": []
  }
 ],
 "metadata": {
  "kernelspec": {
   "display_name": "cadaverstudy",
   "language": "python",
   "name": "python3"
  },
  "language_info": {
   "codemirror_mode": {
    "name": "ipython",
    "version": 3
   },
   "file_extension": ".py",
   "mimetype": "text/x-python",
   "name": "python",
   "nbconvert_exporter": "python",
   "pygments_lexer": "ipython3",
   "version": "3.12.2"
  }
 },
 "nbformat": 4,
 "nbformat_minor": 2
}
